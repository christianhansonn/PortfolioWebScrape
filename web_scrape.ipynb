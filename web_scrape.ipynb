{
 "cells": [
  {
   "cell_type": "code",
   "execution_count": 32,
   "metadata": {},
   "outputs": [],
   "source": [
    "from helpers import (Applicant,\n",
    "                     apply_function, \n",
    "                     job_scraper)\n",
    "import pandas as pd"
   ]
  },
  {
   "cell_type": "code",
   "execution_count": 22,
   "metadata": {},
   "outputs": [],
   "source": [
    "# Create a list of jobs we're interested in applying for\n",
    "titles_to_scrape = ['data analyst', 'data engineer', 'analytics engineer']\n",
    "\n",
    "url = 'https://www.harnham.com/job-search/?_keyword={keyword}&_location=united-states&_paged={num}'"
   ]
  },
  {
   "cell_type": "code",
   "execution_count": 27,
   "metadata": {},
   "outputs": [
    {
     "name": "stdout",
     "output_type": "stream",
     "text": [
      "Extracting data for data analyst page 1\n",
      "Extracting data for data analyst page 2\n",
      "Extracting data for data analyst page 3\n",
      "Extracting data for data analyst page 4\n",
      "Extracting data for data analyst page 5\n",
      "Extracting data for data analyst page 6\n",
      "Extracting data for data engineer page 1\n",
      "Extracting data for data engineer page 2\n",
      "Extracting data for data engineer page 3\n",
      "Extracting data for data engineer page 4\n",
      "Extracting data for data engineer page 5\n",
      "Extracting data for data engineer page 6\n",
      "Extracting data for data engineer page 7\n",
      "Extracting data for analytics engineer page 1\n",
      "Extracting data for analytics engineer page 2\n",
      "Extracting data for analytics engineer page 3\n",
      "Extracting data for analytics engineer page 4\n",
      "Extracting data for analytics engineer page 5\n",
      "Extracting data for analytics engineer page 6\n",
      "Extracting data for analytics engineer page 7\n"
     ]
    }
   ],
   "source": [
    "# Scrape the job board for results from those job titles\n",
    "job_data = job_scraper.job_scraper(titles_to_scrape,url)"
   ]
  },
  {
   "cell_type": "code",
   "execution_count": 29,
   "metadata": {},
   "outputs": [
    {
     "data": {
      "text/html": [
       "<div>\n",
       "<style scoped>\n",
       "    .dataframe tbody tr th:only-of-type {\n",
       "        vertical-align: middle;\n",
       "    }\n",
       "\n",
       "    .dataframe tbody tr th {\n",
       "        vertical-align: top;\n",
       "    }\n",
       "\n",
       "    .dataframe thead th {\n",
       "        text-align: right;\n",
       "    }\n",
       "</style>\n",
       "<table border=\"1\" class=\"dataframe\">\n",
       "  <thead>\n",
       "    <tr style=\"text-align: right;\">\n",
       "      <th></th>\n",
       "      <th>Job Title</th>\n",
       "      <th>Pay Range</th>\n",
       "      <th>Link</th>\n",
       "    </tr>\n",
       "  </thead>\n",
       "  <tbody>\n",
       "    <tr>\n",
       "      <th>0</th>\n",
       "      <td>Data Analyst</td>\n",
       "      <td>$110000 - $140000</td>\n",
       "      <td>https://www.harnham.com/job/eb8cdd1a-d1d1-4f13...</td>\n",
       "    </tr>\n",
       "    <tr>\n",
       "      <th>1</th>\n",
       "      <td>Senior Data Analyst</td>\n",
       "      <td>$100000 - $115000</td>\n",
       "      <td>https://www.harnham.com/job/eb8cdd1a-d1d1-4f13...</td>\n",
       "    </tr>\n",
       "    <tr>\n",
       "      <th>2</th>\n",
       "      <td>Head of Analytics</td>\n",
       "      <td>$225000 - $250000</td>\n",
       "      <td>https://www.harnham.com/job/eb8cdd1a-d1d1-4f13...</td>\n",
       "    </tr>\n",
       "    <tr>\n",
       "      <th>3</th>\n",
       "      <td>Senior Analyst, Business Analytics</td>\n",
       "      <td>$100000 - $115000</td>\n",
       "      <td>https://www.harnham.com/job/eb8cdd1a-d1d1-4f13...</td>\n",
       "    </tr>\n",
       "    <tr>\n",
       "      <th>4</th>\n",
       "      <td>Director of Audience Strategy</td>\n",
       "      <td>$140000 - $155000</td>\n",
       "      <td>https://www.harnham.com/job/eb8cdd1a-d1d1-4f13...</td>\n",
       "    </tr>\n",
       "  </tbody>\n",
       "</table>\n",
       "</div>"
      ],
      "text/plain": [
       "                            Job Title          Pay Range  \\\n",
       "0                        Data Analyst  $110000 - $140000   \n",
       "1                 Senior Data Analyst  $100000 - $115000   \n",
       "2                   Head of Analytics  $225000 - $250000   \n",
       "3  Senior Analyst, Business Analytics  $100000 - $115000   \n",
       "4       Director of Audience Strategy  $140000 - $155000   \n",
       "\n",
       "                                                Link  \n",
       "0  https://www.harnham.com/job/eb8cdd1a-d1d1-4f13...  \n",
       "1  https://www.harnham.com/job/eb8cdd1a-d1d1-4f13...  \n",
       "2  https://www.harnham.com/job/eb8cdd1a-d1d1-4f13...  \n",
       "3  https://www.harnham.com/job/eb8cdd1a-d1d1-4f13...  \n",
       "4  https://www.harnham.com/job/eb8cdd1a-d1d1-4f13...  "
      ]
     },
     "execution_count": 29,
     "metadata": {},
     "output_type": "execute_result"
    }
   ],
   "source": [
    "# Put job board scrape into a DataFrame so we can do analysis and apply to jobs\n",
    "df = pd.DataFrame(job_data, columns=['Job Title','Pay Range','Link'])\n",
    "df = df.drop_duplicates()\n",
    "df.head()"
   ]
  },
  {
   "cell_type": "code",
   "execution_count": 31,
   "metadata": {},
   "outputs": [],
   "source": [
    "# Create the Applicant object we'll use to submit job applications for\n",
    "dunder = Applicant('Michael Scott','michaelscott@dundermifflin','5558675309')"
   ]
  },
  {
   "cell_type": "code",
   "execution_count": 34,
   "metadata": {},
   "outputs": [],
   "source": [
    "# Make a list of all the jobs we've applied for\n",
    "applied_jobs = []"
   ]
  },
  {
   "cell_type": "code",
   "execution_count": null,
   "metadata": {},
   "outputs": [],
   "source": [
    "# Apply to all the jobs links in the DataFrame using our Applicant's information\n",
    "for index, row in df[::-1].iterrows():\n",
    "    link = row['Link']\n",
    "    if link not in applied_jobs:\n",
    "        applied_jobs.append(link)\n",
    "        await apply_function.apply_to_job(link,dunder)"
   ]
  },
  {
   "cell_type": "code",
   "execution_count": 43,
   "metadata": {},
   "outputs": [
    {
     "data": {
      "text/html": [
       "<div>\n",
       "<style scoped>\n",
       "    .dataframe tbody tr th:only-of-type {\n",
       "        vertical-align: middle;\n",
       "    }\n",
       "\n",
       "    .dataframe tbody tr th {\n",
       "        vertical-align: top;\n",
       "    }\n",
       "\n",
       "    .dataframe thead th {\n",
       "        text-align: right;\n",
       "    }\n",
       "</style>\n",
       "<table border=\"1\" class=\"dataframe\">\n",
       "  <thead>\n",
       "    <tr style=\"text-align: right;\">\n",
       "      <th></th>\n",
       "      <th>Job Title</th>\n",
       "      <th>Pay Range</th>\n",
       "      <th>Link</th>\n",
       "      <th>Low_Band</th>\n",
       "      <th>High_Band</th>\n",
       "    </tr>\n",
       "  </thead>\n",
       "  <tbody>\n",
       "    <tr>\n",
       "      <th>0</th>\n",
       "      <td>Data Analyst</td>\n",
       "      <td>$110000 - $140000</td>\n",
       "      <td>https://www.harnham.com/job/eb8cdd1a-d1d1-4f13...</td>\n",
       "      <td>110000</td>\n",
       "      <td>140000</td>\n",
       "    </tr>\n",
       "    <tr>\n",
       "      <th>1</th>\n",
       "      <td>Senior Data Analyst</td>\n",
       "      <td>$100000 - $115000</td>\n",
       "      <td>https://www.harnham.com/job/eb8cdd1a-d1d1-4f13...</td>\n",
       "      <td>100000</td>\n",
       "      <td>115000</td>\n",
       "    </tr>\n",
       "    <tr>\n",
       "      <th>2</th>\n",
       "      <td>Head of Analytics</td>\n",
       "      <td>$225000 - $250000</td>\n",
       "      <td>https://www.harnham.com/job/eb8cdd1a-d1d1-4f13...</td>\n",
       "      <td>225000</td>\n",
       "      <td>250000</td>\n",
       "    </tr>\n",
       "    <tr>\n",
       "      <th>3</th>\n",
       "      <td>Senior Analyst, Business Analytics</td>\n",
       "      <td>$100000 - $115000</td>\n",
       "      <td>https://www.harnham.com/job/eb8cdd1a-d1d1-4f13...</td>\n",
       "      <td>100000</td>\n",
       "      <td>115000</td>\n",
       "    </tr>\n",
       "    <tr>\n",
       "      <th>4</th>\n",
       "      <td>Director of Audience Strategy</td>\n",
       "      <td>$140000 - $155000</td>\n",
       "      <td>https://www.harnham.com/job/eb8cdd1a-d1d1-4f13...</td>\n",
       "      <td>140000</td>\n",
       "      <td>155000</td>\n",
       "    </tr>\n",
       "  </tbody>\n",
       "</table>\n",
       "</div>"
      ],
      "text/plain": [
       "                            Job Title          Pay Range  \\\n",
       "0                        Data Analyst  $110000 - $140000   \n",
       "1                 Senior Data Analyst  $100000 - $115000   \n",
       "2                   Head of Analytics  $225000 - $250000   \n",
       "3  Senior Analyst, Business Analytics  $100000 - $115000   \n",
       "4       Director of Audience Strategy  $140000 - $155000   \n",
       "\n",
       "                                                Link Low_Band High_Band  \n",
       "0  https://www.harnham.com/job/eb8cdd1a-d1d1-4f13...   110000    140000  \n",
       "1  https://www.harnham.com/job/eb8cdd1a-d1d1-4f13...   100000    115000  \n",
       "2  https://www.harnham.com/job/eb8cdd1a-d1d1-4f13...   225000    250000  \n",
       "3  https://www.harnham.com/job/eb8cdd1a-d1d1-4f13...   100000    115000  \n",
       "4  https://www.harnham.com/job/eb8cdd1a-d1d1-4f13...   140000    155000  "
      ]
     },
     "execution_count": 43,
     "metadata": {},
     "output_type": "execute_result"
    }
   ],
   "source": [
    "# Create new high and low bands from pay range\n",
    "df['Low_Band'] = df['Pay Range'].str.split(' - ').str[0].str.replace('$', '')\n",
    "df['High_Band']  = df['Pay Range'].str.split(' - ').str[1].str.replace('$', '')\n",
    "df.head()"
   ]
  },
  {
   "cell_type": "code",
   "execution_count": 50,
   "metadata": {},
   "outputs": [
    {
     "data": {
      "image/png": "[encoded data removed]",
      "text/plain": [
       "<Figure size 640x480 with 1 Axes>"
      ]
     },
     "metadata": {},
     "output_type": "display_data"
    }
   ],
   "source": [
    "import matplotlib.pyplot as plt\n",
    "\n",
    "x = range(len(df))\n",
    "\n",
    "\n",
    "plt.scatter(x,df['High_Band'].astype(int))\n",
    "plt.show()"
   ]
  }
 ],
 "metadata": {
  "kernelspec": {
   "display_name": "Python 3",
   "language": "python",
   "name": "python3"
  },
  "language_info": {
   "codemirror_mode": {
    "name": "ipython",
    "version": 3
   },
   "file_extension": ".py",
   "mimetype": "text/x-python",
   "name": "python",
   "nbconvert_exporter": "python",
   "pygments_lexer": "ipython3",
   "version": "3.12.2"
  }
 },
 "nbformat": 4,
 "nbformat_minor": 2
}
